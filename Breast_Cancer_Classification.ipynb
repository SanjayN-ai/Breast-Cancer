{
  "nbformat": 4,
  "nbformat_minor": 0,
  "metadata": {
    "colab": {
      "provenance": [],
      "gpuType": "T4",
      "authorship_tag": "ABX9TyMD0xx7sEU8BI31Xy0GapAf",
      "include_colab_link": true
    },
    "kernelspec": {
      "name": "python3",
      "display_name": "Python 3"
    },
    "language_info": {
      "name": "python"
    },
    "accelerator": "GPU"
  },
  "cells": [
    {
      "cell_type": "markdown",
      "metadata": {
        "id": "view-in-github",
        "colab_type": "text"
      },
      "source": [
        "<a href=\"https://colab.research.google.com/github/SanjayN-ai/Breast-Cancer/blob/main/Breast_Cancer_Classification.ipynb\" target=\"_parent\"><img src=\"https://colab.research.google.com/assets/colab-badge.svg\" alt=\"Open In Colab\"/></a>"
      ]
    },
    {
      "cell_type": "code",
      "source": [
        "from google.colab import files\n",
        "files.upload()  # Upload kaggle.json"
      ],
      "metadata": {
        "id": "NXNe1bUVnXQJ"
      },
      "execution_count": null,
      "outputs": []
    },
    {
      "cell_type": "code",
      "source": [
        "!mkdir -p ~/.kaggle\n",
        "!cp kaggle.json ~/.kaggle/\n",
        "!chmod 600 ~/.kaggle/kaggle.json\n"
      ],
      "metadata": {
        "id": "SFIQ_yMkXhHV"
      },
      "execution_count": 3,
      "outputs": []
    },
    {
      "cell_type": "code",
      "source": [
        "!kaggle datasets download -d paultimothymooney/breast-histopathology-images"
      ],
      "metadata": {
        "colab": {
          "base_uri": "https://localhost:8080/"
        },
        "id": "SaoBtEEVXttu",
        "outputId": "c09b41d4-2c95-401e-fbd4-830487ae1b74"
      },
      "execution_count": 4,
      "outputs": [
        {
          "output_type": "stream",
          "name": "stdout",
          "text": [
            "Dataset URL: https://www.kaggle.com/datasets/paultimothymooney/breast-histopathology-images\n",
            "License(s): CC0-1.0\n",
            "Downloading breast-histopathology-images.zip to /content\n",
            "100% 3.09G/3.10G [00:25<00:00, 158MB/s]\n",
            "100% 3.10G/3.10G [00:25<00:00, 132MB/s]\n"
          ]
        }
      ]
    },
    {
      "cell_type": "code",
      "source": [
        "!unzip -q breast-histopathology-images.zip -d breast_cancer_data\n"
      ],
      "metadata": {
        "id": "YeRFglY3Xuf5"
      },
      "execution_count": 5,
      "outputs": []
    },
    {
      "cell_type": "code",
      "source": [
        "import os\n",
        "import shutil\n",
        "\n",
        "# Create folders for organized data\n",
        "os.makedirs(\"data/0\", exist_ok=True)\n",
        "os.makedirs(\"data/1\", exist_ok=True)\n",
        "\n",
        "# Root directory where original folders are stored\n",
        "root_dir = \"breast_cancer_data\"\n",
        "\n",
        "# Walk through all subfolders and copy images to new folders\n",
        "for subdir, dirs, files in os.walk(root_dir):\n",
        "    for file in files:\n",
        "        if file.endswith(\".png\"):\n",
        "            label = file.split(\"_\")[-1].replace(\".png\", \"\")  # class0 or class1\n",
        "            if label == \"class0\":\n",
        "                shutil.copy(os.path.join(subdir, file), \"data/0/\" + file)\n",
        "            elif label == \"class1\":\n",
        "                shutil.copy(os.path.join(subdir, file), \"data/1/\" + file)\n",
        "\n",
        "print(\"✅ Dataset organized into 'data/0' (benign) and 'data/1' (malignant)\")\n"
      ],
      "metadata": {
        "colab": {
          "base_uri": "https://localhost:8080/"
        },
        "id": "OJTImpxTd4By",
        "outputId": "499345e3-ba6e-4256-8c5b-c497db5d92ed"
      },
      "execution_count": 20,
      "outputs": [
        {
          "output_type": "stream",
          "name": "stdout",
          "text": [
            "✅ Dataset organized into 'data/0' (benign) and 'data/1' (malignant)\n"
          ]
        }
      ]
    },
    {
      "cell_type": "code",
      "source": [
        "DATASET_PATH = \"data\"\n"
      ],
      "metadata": {
        "id": "MifkE2BHei3W"
      },
      "execution_count": 21,
      "outputs": []
    },
    {
      "cell_type": "code",
      "source": [
        "import os\n",
        "\n",
        "benign_count = len(os.listdir('data/0'))\n",
        "malignant_count = len(os.listdir('data/1'))\n",
        "\n",
        "print(f\"Benign images: {benign_count}\")\n",
        "print(f\"Malignant images: {malignant_count}\")\n"
      ],
      "metadata": {
        "colab": {
          "base_uri": "https://localhost:8080/"
        },
        "id": "DrD463HvgKev",
        "outputId": "62a50317-1bbe-4c3b-86f7-d74be5ad6ab5"
      },
      "execution_count": 22,
      "outputs": [
        {
          "output_type": "stream",
          "name": "stdout",
          "text": [
            "Benign images: 36511\n",
            "Malignant images: 11912\n"
          ]
        }
      ]
    },
    {
      "cell_type": "code",
      "source": [
        "import os\n",
        "import shutil\n",
        "\n",
        "# Make sure destination folders exist\n",
        "os.makedirs(\"data/0\", exist_ok=True)\n",
        "os.makedirs(\"data/1\", exist_ok=True)\n",
        "\n",
        "root_dir = \"breast_cancer_data\"\n",
        "\n",
        "count0, count1 = 0, 0\n",
        "\n",
        "for dirpath, dirnames, filenames in os.walk(root_dir):\n",
        "    for filename in filenames:\n",
        "        if filename.endswith(\".png\"):\n",
        "            class_label = filename.split(\"_\")[-1].replace(\".png\", \"\")  # class0 or class1\n",
        "            src_path = os.path.join(dirpath, filename)\n",
        "            if class_label == \"class0\":\n",
        "                shutil.copy(src_path, f\"data/0/{filename}\")\n",
        "                count0 += 1\n",
        "            elif class_label == \"class1\":\n",
        "                shutil.copy(src_path, f\"data/1/{filename}\")\n",
        "                count1 += 1\n",
        "\n",
        "print(f\"✅ Copied {count0} benign images and {count1} malignant images.\")\n"
      ],
      "metadata": {
        "colab": {
          "base_uri": "https://localhost:8080/"
        },
        "id": "p3PFQDwdgOii",
        "outputId": "62b71faa-a297-46e9-b5a9-daffd3b00f00"
      },
      "execution_count": 24,
      "outputs": [
        {
          "output_type": "stream",
          "name": "stdout",
          "text": [
            "✅ Copied 36511 benign images and 11912 malignant images.\n"
          ]
        }
      ]
    },
    {
      "cell_type": "code",
      "source": [
        "import os\n",
        "\n",
        "# Sample 10 image file names from any subfolder\n",
        "for root, dirs, files in os.walk(\"breast_cancer_data\"):\n",
        "    for file in files[:10]:  # print only 10 files\n",
        "        print(file)\n",
        "    break\n"
      ],
      "metadata": {
        "id": "Fk2fO9zugm_o"
      },
      "execution_count": 25,
      "outputs": []
    },
    {
      "cell_type": "code",
      "source": [
        "X, y = load_images(DATASET_PATH)\n",
        "X = X.astype('float32') / 255.0\n",
        "y = to_categorical(y, 2)\n",
        "\n",
        "X_train, X_test, y_train, y_test = train_test_split(X, y, test_size=0.2, random_state=42)\n",
        "\n",
        "print(f\"✅ Loaded {len(X)} images\")\n"
      ],
      "metadata": {
        "colab": {
          "base_uri": "https://localhost:8080/"
        },
        "id": "DYsMNzaSgV76",
        "outputId": "509e65f0-4c2d-4264-aa83-f62e1a205754"
      },
      "execution_count": 26,
      "outputs": [
        {
          "output_type": "stream",
          "name": "stdout",
          "text": [
            "✅ Loaded 48422 images\n"
          ]
        }
      ]
    },
    {
      "cell_type": "code",
      "source": [
        "import numpy as np\n",
        "import cv2\n",
        "import os\n",
        "from tensorflow.keras.utils import to_categorical\n",
        "from sklearn.model_selection import train_test_split\n",
        "\n",
        "IMG_SIZE = 50\n",
        "DATASET_PATH = \"data\"\n",
        "\n",
        "# Load and preprocess images\n",
        "def load_images(dataset_path):\n",
        "    X = []\n",
        "    y = []\n",
        "    for label in ['0', '1']:\n",
        "        path = os.path.join(dataset_path, label)\n",
        "        for img_file in os.listdir(path):\n",
        "            img_path = os.path.join(path, img_file)\n",
        "            try:\n",
        "                img = cv2.imread(img_path)\n",
        "                img = cv2.resize(img, (IMG_SIZE, IMG_SIZE))\n",
        "                X.append(img)\n",
        "                y.append(int(label))\n",
        "            except:\n",
        "                continue\n",
        "    return np.array(X), np.array(y)\n",
        "\n",
        "X, y = load_images(DATASET_PATH)\n",
        "X = X.astype('float32') / 255.0\n",
        "y = to_categorical(y, 2)\n",
        "\n",
        "# Split data\n",
        "X_train, X_test, y_train, y_test = train_test_split(X, y, test_size=0.2, random_state=42)\n",
        "\n",
        "print(f\"✅ Loaded {len(X)} images\")\n"
      ],
      "metadata": {
        "colab": {
          "base_uri": "https://localhost:8080/"
        },
        "id": "8QnqCsBCes3p",
        "outputId": "93348b83-e746-44e3-bc87-0e106b99ada9"
      },
      "execution_count": 27,
      "outputs": [
        {
          "output_type": "stream",
          "name": "stdout",
          "text": [
            "✅ Loaded 48422 images\n"
          ]
        }
      ]
    },
    {
      "cell_type": "code",
      "source": [
        "import tensorflow as tf\n",
        "print(\"TensorFlow version:\", tf.__version__)\n",
        "print(\"GPU Available:\", tf.config.list_physical_devices('GPU'))\n"
      ],
      "metadata": {
        "colab": {
          "base_uri": "https://localhost:8080/"
        },
        "id": "pcC5QQdRiQ4O",
        "outputId": "d74aa969-a140-4d10-a927-85279d986f3b"
      },
      "execution_count": 29,
      "outputs": [
        {
          "output_type": "stream",
          "name": "stdout",
          "text": [
            "TensorFlow version: 2.18.0\n",
            "GPU Available: [PhysicalDevice(name='/physical_device:GPU:0', device_type='GPU')]\n"
          ]
        }
      ]
    },
    {
      "cell_type": "code",
      "source": [
        "# View GPU stats\n",
        "!nvidia-smi"
      ],
      "metadata": {
        "colab": {
          "base_uri": "https://localhost:8080/"
        },
        "id": "mM-t5sV4igix",
        "outputId": "9ece7865-74aa-4d1e-a1de-35541bb32ed2"
      },
      "execution_count": 30,
      "outputs": [
        {
          "output_type": "stream",
          "name": "stdout",
          "text": [
            "Tue Jun 17 06:18:34 2025       \n",
            "+-----------------------------------------------------------------------------------------+\n",
            "| NVIDIA-SMI 550.54.15              Driver Version: 550.54.15      CUDA Version: 12.4     |\n",
            "|-----------------------------------------+------------------------+----------------------+\n",
            "| GPU  Name                 Persistence-M | Bus-Id          Disp.A | Volatile Uncorr. ECC |\n",
            "| Fan  Temp   Perf          Pwr:Usage/Cap |           Memory-Usage | GPU-Util  Compute M. |\n",
            "|                                         |                        |               MIG M. |\n",
            "|=========================================+========================+======================|\n",
            "|   0  Tesla T4                       Off |   00000000:00:04.0 Off |                    0 |\n",
            "| N/A   47C    P0             26W /   70W |    2182MiB /  15360MiB |      0%      Default |\n",
            "|                                         |                        |                  N/A |\n",
            "+-----------------------------------------+------------------------+----------------------+\n",
            "                                                                                         \n",
            "+-----------------------------------------------------------------------------------------+\n",
            "| Processes:                                                                              |\n",
            "|  GPU   GI   CI        PID   Type   Process name                              GPU Memory |\n",
            "|        ID   ID                                                               Usage      |\n",
            "|=========================================================================================|\n",
            "+-----------------------------------------------------------------------------------------+\n"
          ]
        }
      ]
    },
    {
      "cell_type": "code",
      "source": [
        "from tensorflow.keras.models import Sequential\n",
        "from tensorflow.keras.layers import Conv2D, MaxPooling2D, Flatten, Dense, Dropout\n",
        "\n",
        "def build_cancernet():\n",
        "    model = Sequential()\n",
        "    model.add(Conv2D(32, (3,3), activation='relu', input_shape=(IMG_SIZE, IMG_SIZE, 3)))\n",
        "    model.add(MaxPooling2D(2,2))\n",
        "    model.add(Conv2D(64, (3,3), activation='relu'))\n",
        "    model.add(MaxPooling2D(2,2))\n",
        "    model.add(Flatten())\n",
        "    model.add(Dense(128, activation='relu'))\n",
        "    model.add(Dropout(0.5))\n",
        "    model.add(Dense(2, activation='softmax'))\n",
        "    model.compile(optimizer='adam', loss='categorical_crossentropy', metrics=['accuracy'])\n",
        "    return model\n",
        "\n",
        "model = build_cancernet()\n",
        "history = model.fit(X_train, y_train, epochs=10, batch_size=32, validation_split=0.1)\n"
      ],
      "metadata": {
        "colab": {
          "base_uri": "https://localhost:8080/"
        },
        "id": "8AUalAW1fFqy",
        "outputId": "96a75b66-b72e-49a6-bb13-6e7d1814d719"
      },
      "execution_count": 31,
      "outputs": [
        {
          "output_type": "stream",
          "name": "stderr",
          "text": [
            "/usr/local/lib/python3.11/dist-packages/keras/src/layers/convolutional/base_conv.py:107: UserWarning: Do not pass an `input_shape`/`input_dim` argument to a layer. When using Sequential models, prefer using an `Input(shape)` object as the first layer in the model instead.\n",
            "  super().__init__(activity_regularizer=activity_regularizer, **kwargs)\n"
          ]
        },
        {
          "output_type": "stream",
          "name": "stdout",
          "text": [
            "Epoch 1/10\n",
            "\u001b[1m1090/1090\u001b[0m \u001b[32m━━━━━━━━━━━━━━━━━━━━\u001b[0m\u001b[37m\u001b[0m \u001b[1m11s\u001b[0m 7ms/step - accuracy: 0.8198 - loss: 0.4097 - val_accuracy: 0.8425 - val_loss: 0.4115\n",
            "Epoch 2/10\n",
            "\u001b[1m1090/1090\u001b[0m \u001b[32m━━━━━━━━━━━━━━━━━━━━\u001b[0m\u001b[37m\u001b[0m \u001b[1m9s\u001b[0m 8ms/step - accuracy: 0.8414 - loss: 0.3663 - val_accuracy: 0.8549 - val_loss: 0.3323\n",
            "Epoch 3/10\n",
            "\u001b[1m1090/1090\u001b[0m \u001b[32m━━━━━━━━━━━━━━━━━━━━\u001b[0m\u001b[37m\u001b[0m \u001b[1m7s\u001b[0m 5ms/step - accuracy: 0.8477 - loss: 0.3513 - val_accuracy: 0.8511 - val_loss: 0.3293\n",
            "Epoch 4/10\n",
            "\u001b[1m1090/1090\u001b[0m \u001b[32m━━━━━━━━━━━━━━━━━━━━\u001b[0m\u001b[37m\u001b[0m \u001b[1m10s\u001b[0m 5ms/step - accuracy: 0.8498 - loss: 0.3442 - val_accuracy: 0.8665 - val_loss: 0.3250\n",
            "Epoch 5/10\n",
            "\u001b[1m1090/1090\u001b[0m \u001b[32m━━━━━━━━━━━━━━━━━━━━\u001b[0m\u001b[37m\u001b[0m \u001b[1m10s\u001b[0m 5ms/step - accuracy: 0.8579 - loss: 0.3364 - val_accuracy: 0.8668 - val_loss: 0.3219\n",
            "Epoch 6/10\n",
            "\u001b[1m1090/1090\u001b[0m \u001b[32m━━━━━━━━━━━━━━━━━━━━\u001b[0m\u001b[37m\u001b[0m \u001b[1m5s\u001b[0m 5ms/step - accuracy: 0.8556 - loss: 0.3385 - val_accuracy: 0.8658 - val_loss: 0.3228\n",
            "Epoch 7/10\n",
            "\u001b[1m1090/1090\u001b[0m \u001b[32m━━━━━━━━━━━━━━━━━━━━\u001b[0m\u001b[37m\u001b[0m \u001b[1m5s\u001b[0m 4ms/step - accuracy: 0.8583 - loss: 0.3323 - val_accuracy: 0.8668 - val_loss: 0.3279\n",
            "Epoch 8/10\n",
            "\u001b[1m1090/1090\u001b[0m \u001b[32m━━━━━━━━━━━━━━━━━━━━\u001b[0m\u001b[37m\u001b[0m \u001b[1m5s\u001b[0m 5ms/step - accuracy: 0.8595 - loss: 0.3279 - val_accuracy: 0.8709 - val_loss: 0.3185\n",
            "Epoch 9/10\n",
            "\u001b[1m1090/1090\u001b[0m \u001b[32m━━━━━━━━━━━━━━━━━━━━\u001b[0m\u001b[37m\u001b[0m \u001b[1m10s\u001b[0m 4ms/step - accuracy: 0.8628 - loss: 0.3168 - val_accuracy: 0.8694 - val_loss: 0.3158\n",
            "Epoch 10/10\n",
            "\u001b[1m1090/1090\u001b[0m \u001b[32m━━━━━━━━━━━━━━━━━━━━\u001b[0m\u001b[37m\u001b[0m \u001b[1m6s\u001b[0m 6ms/step - accuracy: 0.8667 - loss: 0.3090 - val_accuracy: 0.8629 - val_loss: 0.3323\n"
          ]
        }
      ]
    },
    {
      "cell_type": "code",
      "source": [
        "loss, accuracy = model.evaluate(X_test, y_test)\n",
        "print(f\"📊 Test Accuracy: {accuracy*100:.2f}%\")\n"
      ],
      "metadata": {
        "colab": {
          "base_uri": "https://localhost:8080/"
        },
        "id": "uCEA1vi8ktqg",
        "outputId": "e202df25-fc32-4b30-e234-126d97b6c196"
      },
      "execution_count": 32,
      "outputs": [
        {
          "output_type": "stream",
          "name": "stdout",
          "text": [
            "\u001b[1m303/303\u001b[0m \u001b[32m━━━━━━━━━━━━━━━━━━━━\u001b[0m\u001b[37m\u001b[0m \u001b[1m1s\u001b[0m 4ms/step - accuracy: 0.8517 - loss: 0.3450\n",
            "📊 Test Accuracy: 85.54%\n"
          ]
        }
      ]
    },
    {
      "cell_type": "code",
      "source": [
        "from sklearn.metrics import confusion_matrix, classification_report\n",
        "import numpy as np\n",
        "\n",
        "# Predictions\n",
        "y_pred = model.predict(X_test)\n",
        "y_pred_classes = np.argmax(y_pred, axis=1)\n",
        "y_true = np.argmax(y_test, axis=1)\n",
        "\n",
        "# Confusion Matrix\n",
        "cm = confusion_matrix(y_true, y_pred_classes)\n",
        "print(\"🧾 Confusion Matrix:\\n\", cm)\n",
        "\n",
        "# Classification Report\n",
        "print(\"🔎 Classification Report:\\n\", classification_report(y_true, y_pred_classes, target_names=[\"Benign\", \"Malignant\"]))\n"
      ],
      "metadata": {
        "colab": {
          "base_uri": "https://localhost:8080/"
        },
        "id": "fX23UiqWkwb8",
        "outputId": "6f9e3c8c-fbcc-4845-bfbb-10c4be7ef765"
      },
      "execution_count": 33,
      "outputs": [
        {
          "output_type": "stream",
          "name": "stdout",
          "text": [
            "\u001b[1m303/303\u001b[0m \u001b[32m━━━━━━━━━━━━━━━━━━━━\u001b[0m\u001b[37m\u001b[0m \u001b[1m2s\u001b[0m 3ms/step\n",
            "🧾 Confusion Matrix:\n",
            " [[6954  366]\n",
            " [1034 1331]]\n",
            "🔎 Classification Report:\n",
            "               precision    recall  f1-score   support\n",
            "\n",
            "      Benign       0.87      0.95      0.91      7320\n",
            "   Malignant       0.78      0.56      0.66      2365\n",
            "\n",
            "    accuracy                           0.86      9685\n",
            "   macro avg       0.83      0.76      0.78      9685\n",
            "weighted avg       0.85      0.86      0.85      9685\n",
            "\n"
          ]
        }
      ]
    },
    {
      "cell_type": "code",
      "source": [
        "import matplotlib.pyplot as plt\n",
        "\n",
        "# Assume 'history' is the variable storing model.fit() output\n",
        "plt.figure(figsize=(12, 5))\n",
        "\n",
        "# Accuracy\n",
        "plt.subplot(1, 2, 1)\n",
        "plt.plot(history.history['accuracy'], label='Train Acc')\n",
        "plt.plot(history.history['val_accuracy'], label='Val Acc')\n",
        "plt.title('Accuracy')\n",
        "plt.legend()\n",
        "\n",
        "# Loss\n",
        "plt.subplot(1, 2, 2)\n",
        "plt.plot(history.history['loss'], label='Train Loss')\n",
        "plt.plot(history.history['val_loss'], label='Val Loss')\n",
        "plt.title('Loss')\n",
        "plt.legend()\n",
        "\n",
        "plt.show()\n"
      ],
      "metadata": {
        "colab": {
          "base_uri": "https://localhost:8080/",
          "height": 468
        },
        "id": "vRxPcynck1_Z",
        "outputId": "7b6f918e-fb55-4735-e08a-bb047f3a6250"
      },
      "execution_count": 34,
      "outputs": [
        {
          "output_type": "display_data",
          "data": {
            "text/plain": [
              "<Figure size 1200x500 with 2 Axes>"
            ],
            "image/png": "[encoded data removed]"
          },
          "metadata": {}
        }
      ]
    },
    {
      "cell_type": "code",
      "source": [
        "model.save(\"CancerNet.h5\")  # Save to file\n",
        "print(\"✅ Model saved as CancerNet.h5\")\n"
      ],
      "metadata": {
        "colab": {
          "base_uri": "https://localhost:8080/"
        },
        "id": "a-5qsZQSk8yW",
        "outputId": "630fc7d0-d482-43bf-82b8-164008ac8200"
      },
      "execution_count": 35,
      "outputs": [
        {
          "output_type": "stream",
          "name": "stderr",
          "text": [
            "WARNING:absl:You are saving your model as an HDF5 file via `model.save()` or `keras.saving.save_model(model)`. This file format is considered legacy. We recommend using instead the native Keras format, e.g. `model.save('my_model.keras')` or `keras.saving.save_model(model, 'my_model.keras')`. \n"
          ]
        },
        {
          "output_type": "stream",
          "name": "stdout",
          "text": [
            "✅ Model saved as CancerNet.h5\n"
          ]
        }
      ]
    }
  ]
}